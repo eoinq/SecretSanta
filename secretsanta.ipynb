{
 "cells": [
  {
   "cell_type": "markdown",
   "metadata": {},
   "source": [
    "# The Quinn family Secret Santa"
   ]
  },
  {
   "cell_type": "markdown",
   "metadata": {},
   "source": [
    "Creates random pairing between participants under the constraints that no two members of the same group are matched and there is no repeat of a match from the past 5 years. Mails are sent to all participants automatically and anomynously."
   ]
  },
  {
   "cell_type": "markdown",
   "metadata": {},
   "source": [
    "## Setup"
   ]
  },
  {
   "cell_type": "code",
   "execution_count": 8,
   "metadata": {},
   "outputs": [],
   "source": [
    "import pickle\n",
    "from random import sample\n",
    "import smtplib, ssl\n",
    "from email.mime.text import MIMEText\n",
    "from email.mime.multipart import MIMEMultipart\n",
    "from datetime import datetime\n",
    "\n",
    "year = datetime.now().year\n",
    "    \n",
    "\n",
    "class Participant:\n",
    "\n",
    "    def __init__(self, name, group, email):\n",
    "        self.name = name\n",
    "        self.group = group\n",
    "        self.email = email\n",
    "        \n",
    "        \n",
    "def get_recent_matches(participants, max_no_years=5):\n",
    "    \n",
    "    recent_matches = dict()\n",
    "    for participant in participants:\n",
    "        recent_matches[participant.name] = []\n",
    "\n",
    "    for i in range(max_no_years):\n",
    "            previous_year = year-1-i\n",
    "            try:\n",
    "                previous_pairing = pickle.load( open(f\"previous/pairing{previous_year}.p\", \"rb\" ) )\n",
    "                for (giver, receiver) in previous_pairing.items():\n",
    "                    recent_matches[giver].append(receiver)\n",
    "            except:\n",
    "                print(f\"Missing file for {previous_year}\")\n",
    "                continue\n",
    "                \n",
    "    return recent_matches        \n",
    "        \n",
    "\n",
    "class Pairing:\n",
    "    \n",
    "    def __init__(self, participants):\n",
    "        shuffled_participants = sample(participants, len(participants))\n",
    "        self.pairs = dict(zip(participants, shuffled_participants))\n",
    "        self.names = dict((giver.name, receiver.name) for (giver, receiver) in self.pairs.items())\n",
    "        \n",
    "    def is_valid(self):\n",
    "        for (giver, receiver) in self.pairs.items():\n",
    "            if giver.group == receiver.group: \n",
    "                return False\n",
    "        return True\n",
    "                \n",
    "    def no_recent_matches(self, recent_matches):\n",
    "        for (giver, receiver) in self.pairs.items():\n",
    "            if receiver.name in recent_matches[giver.name]: \n",
    "                return False\n",
    "        return True\n",
    "        \n",
    "                \n",
    "class Mail:\n",
    "\n",
    "    def __init__(self):\n",
    "        self.port = 465\n",
    "        self.smtp_server_domain_name = \"smtp.gmail.com\"\n",
    "        self.sender_mail = \"quinnsecretsanta@gmail.com\"\n",
    "        self.password = \"dzkmxvrekiehcryi\"\n",
    "        self.ssl_context = ssl.create_default_context()\n",
    "        self.service = smtplib.SMTP_SSL(self.smtp_server_domain_name, self.port, context=self.ssl_context)\n",
    "        self.service.login(self.sender_mail, self.password)\n",
    "    \n",
    "    def quit(self):\n",
    "        self.service.quit()\n",
    "        \n",
    "    def message(self, giver, receiver):      \n",
    "        message = MIMEMultipart()\n",
    "        message[\"Subject\"] = str(year)+\" Secret Santa!\"\n",
    "        message[\"From\"] = self.sender_mail\n",
    "        message[\"To\"] = giver.email\n",
    "        message.attach(MIMEText(message_text(giver.name, receiver.name)))\n",
    "        return message.as_string()\n",
    "    \n",
    "    def trialmail(self, pairing):     \n",
    "        for (giver, receiver) in pairing.pairs.items():\n",
    "            if giver.name == \"Eoin\":\n",
    "                self.service.sendmail(self.sender_mail, giver.email, self.message(giver, receiver))\n",
    "                print(f\"Mail sent to {giver.email}\")\n",
    "        \n",
    "    def caution_sendmails_caution(self, pairing):     \n",
    "        for (giver, receiver) in pairing.pairs.items():\n",
    "            self.service.sendmail(self.sender_mail, giver.email, self.message(giver, receiver))\n",
    "            print(f\"Mail sent to {giver.email}\")\n",
    "            \n",
    "def message_text(giver_name, receiver_name): \n",
    "    return f\"\"\"\\\n",
    "Dear {giver_name},\n",
    "\n",
    "Congratulations, this year you are Secret Santa for {receiver_name}.\n",
    "\n",
    "Happy searching!\n",
    "\n",
    "Eolfin\"\"\""
   ]
  },
  {
   "cell_type": "markdown",
   "metadata": {},
   "source": [
    "## Participants"
   ]
  },
  {
   "cell_type": "code",
   "execution_count": 35,
   "metadata": {},
   "outputs": [],
   "source": [
    "participants = [\n",
    "    Participant(\"John\", \"group_John\", \"turboquinn@icloud.com\"),\n",
    "    Participant(\"Mary\", \"group_John\", \"familyquinn66@gmail.com\"),\n",
    "    Participant(\"Cathal\", \"group_Cathal\", \"cathal.quinn@gmail.com\"),\n",
    "    Participant(\"Iwona\", \"group_Cathal\", \"iwona.quinn@gmail.com\"),\n",
    "    Participant(\"Raghnall\", \"group_Raghnall\", \"rquinn@rossescommunityschool.ie\"),\n",
    "    Participant(\"Anne\", \"group_Raghnall\", \"ismiseanne@gmail.com\"),\n",
    "    Participant(\"Eamonn\", \"group_Eamonn\", \"eamonnquinn@yahoo.com\"),\n",
    "    Participant(\"Ellis\", \"group_Eamonn\", \"elliskelleher@gmail.com\"),\n",
    "    Participant(\"Eoin\", \"group_Eoin\", \"epquinn@gmail.com\"),\n",
    "    Participant(\"Maolíosa\", \"group_Maolíosa\", \"maoliosaq@yahoo.com\"),\n",
    "    Participant(\"Lisa\", \"group_Maolíosa\", \"lisadhanlon@gmail.com\")\n",
    "]"
   ]
  },
  {
   "cell_type": "markdown",
   "metadata": {},
   "source": [
    "## Find pairing"
   ]
  },
  {
   "cell_type": "code",
   "execution_count": 59,
   "metadata": {},
   "outputs": [
    {
     "name": "stdout",
     "output_type": "stream",
     "text": [
      "10000\n",
      "20000\n",
      "Match found at attempt 28721\n"
     ]
    }
   ],
   "source": [
    "recent_matches = get_recent_matches(participants, max_no_years=5)\n",
    "\n",
    "counter = 1\n",
    "counter_cutoff = 1000000\n",
    "\n",
    "match = False\n",
    "while match == False:        \n",
    "    \n",
    "    pairing = Pairing(participants)\n",
    "    \n",
    "    if pairing.is_valid() and pairing.no_recent_matches(recent_matches):\n",
    "        print(f\"Match found at attempt {counter}\")\n",
    "        match = True\n",
    "        \n",
    "    counter += 1\n",
    "    if counter % 10000 == 0: print(counter)\n",
    "    if counter == counter_cutoff: print(\"No match found\"); break"
   ]
  },
  {
   "cell_type": "markdown",
   "metadata": {},
   "source": [
    "## Trial mail"
   ]
  },
  {
   "cell_type": "code",
   "execution_count": 22,
   "metadata": {},
   "outputs": [
    {
     "name": "stdout",
     "output_type": "stream",
     "text": [
      "Mail sent to epquinn@gmail.com\n"
     ]
    }
   ],
   "source": [
    "mail = Mail()\n",
    "mail.trialmail(pairing)\n",
    "mail.quit()"
   ]
  },
  {
   "cell_type": "markdown",
   "metadata": {},
   "source": [
    "## Send out mails and save to file"
   ]
  },
  {
   "cell_type": "markdown",
   "metadata": {},
   "source": [
    "Convert the following from markdown to code and run to send out the mails, and record the matches for later years."
   ]
  },
  {
   "cell_type": "markdown",
   "metadata": {},
   "source": [
    "pickle.dump(pairing.names, open(f\"previous/pairing{year}.p\", \"wb\"))\n",
    "pickle.dump(pairing, open(f\"previous/pairing_data_{year}.p\", \"wb\"))\n",
    "\n",
    "mail = Mail()\n",
    "\n",
    "mail.caution_sendmails_caution(pairing)\n",
    "\n",
    "mail.quit()"
   ]
  },
  {
   "cell_type": "code",
   "execution_count": null,
   "metadata": {},
   "outputs": [],
   "source": []
  }
 ],
 "metadata": {
  "kernelspec": {
   "display_name": "Python 3",
   "language": "python",
   "name": "python3"
  },
  "language_info": {
   "codemirror_mode": {
    "name": "ipython",
    "version": 3
   },
   "file_extension": ".py",
   "mimetype": "text/x-python",
   "name": "python",
   "nbconvert_exporter": "python",
   "pygments_lexer": "ipython3",
   "version": "3.8.5"
  }
 },
 "nbformat": 4,
 "nbformat_minor": 4
}
